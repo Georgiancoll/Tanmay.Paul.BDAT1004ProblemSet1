{
 "cells": [
  {
   "cell_type": "code",
   "execution_count": null,
   "id": "205d194e",
   "metadata": {},
   "outputs": [],
   "source": [
    "\n",
    "Question 1 C#\n",
    "What data type is each of the following?\n",
    "5\n",
    "5.0\n",
    "5 > 1\n",
    "'5'\n",
    "5 * 2\n",
    "'5' * 2\n",
    "'5' + '2'\n",
    "5 / 2\n",
    "5 % 2\n",
    "{5, 2, 1}\n",
    "5 == 3\n",
    "Pi (the number)"
   ]
  },
  {
   "cell_type": "code",
   "execution_count": 71,
   "id": "a4198911",
   "metadata": {},
   "outputs": [
    {
     "name": "stdout",
     "output_type": "stream",
     "text": [
      "System.Int32\r\n"
     ]
    }
   ],
   "source": [
    "dynamic p = 5;\n",
    "Console.WriteLine(p.GetType());"
   ]
  },
  {
   "cell_type": "code",
   "execution_count": 72,
   "id": "837c846c",
   "metadata": {},
   "outputs": [
    {
     "name": "stdout",
     "output_type": "stream",
     "text": [
      "System.Double\r\n"
     ]
    }
   ],
   "source": [
    "dynamic p = 5.0;\n",
    "Console.WriteLine(p.GetType());"
   ]
  },
  {
   "cell_type": "code",
   "execution_count": 73,
   "id": "11c3243c",
   "metadata": {},
   "outputs": [
    {
     "name": "stdout",
     "output_type": "stream",
     "text": [
      "System.Boolean\r\n"
     ]
    }
   ],
   "source": [
    "dynamic p = 5>1;\n",
    "Console.WriteLine(p.GetType());"
   ]
  },
  {
   "cell_type": "code",
   "execution_count": 74,
   "id": "49f54622",
   "metadata": {},
   "outputs": [
    {
     "name": "stdout",
     "output_type": "stream",
     "text": [
      "System.Char\r\n"
     ]
    }
   ],
   "source": [
    "dynamic p = '5';\n",
    "Console.WriteLine(p.GetType());"
   ]
  },
  {
   "cell_type": "code",
   "execution_count": 75,
   "id": "013a1194",
   "metadata": {},
   "outputs": [
    {
     "name": "stdout",
     "output_type": "stream",
     "text": [
      "System.Int32\r\n"
     ]
    }
   ],
   "source": [
    "dynamic p = 5 * 2;\n",
    "Console.WriteLine(p.GetType());"
   ]
  },
  {
   "cell_type": "markdown",
   "id": "39831b06",
   "metadata": {},
   "source": [
    "'5' * 2 ==> string\n"
   ]
  },
  {
   "cell_type": "markdown",
   "id": "f27b4543",
   "metadata": {},
   "source": [
    "'5' + '2' ==> string\n"
   ]
  },
  {
   "cell_type": "code",
   "execution_count": 78,
   "id": "5a54c15c",
   "metadata": {},
   "outputs": [
    {
     "name": "stdout",
     "output_type": "stream",
     "text": [
      "System.Int32\r\n"
     ]
    }
   ],
   "source": [
    "dynamic p = 5 / 2;\n",
    "Console.WriteLine(p.GetType());"
   ]
  },
  {
   "cell_type": "code",
   "execution_count": 79,
   "id": "0d13c98f",
   "metadata": {},
   "outputs": [
    {
     "name": "stdout",
     "output_type": "stream",
     "text": [
      "System.Int32\r\n"
     ]
    }
   ],
   "source": [
    "dynamic p = 5 % 2;\n",
    "Console.WriteLine(p.GetType());"
   ]
  },
  {
   "cell_type": "markdown",
   "id": "0d43278f",
   "metadata": {},
   "source": [
    "{5, 2, 1} = Integer array"
   ]
  },
  {
   "cell_type": "code",
   "execution_count": 80,
   "id": "cb68676d",
   "metadata": {},
   "outputs": [
    {
     "name": "stdout",
     "output_type": "stream",
     "text": [
      "System.Boolean\r\n"
     ]
    }
   ],
   "source": [
    "dynamic p = 5 == 3;\n",
    "Console.WriteLine(p.GetType());"
   ]
  },
  {
   "cell_type": "code",
   "execution_count": 81,
   "id": "c865e026",
   "metadata": {},
   "outputs": [
    {
     "name": "stdout",
     "output_type": "stream",
     "text": [
      "System.Double\r\n"
     ]
    }
   ],
   "source": [
    "double pi = 3.141;\n",
    "Console.WriteLine(pi.GetType());"
   ]
  },
  {
   "cell_type": "markdown",
   "id": "620c70d7",
   "metadata": {},
   "source": [
    "Question 2 C#\n",
    "Write (and evaluate) C# expressions that answer these questions:\n",
    "\n",
    "\n",
    "a. How many letters are there in 'Supercalifragilisticexpialidocious'?"
   ]
  },
  {
   "cell_type": "code",
   "execution_count": 82,
   "id": "2a572d2b",
   "metadata": {},
   "outputs": [
    {
     "name": "stdout",
     "output_type": "stream",
     "text": [
      "Number of letters in the given word:34\r\n"
     ]
    }
   ],
   "source": [
    "string x = \"Supercalifragilisticexpialidocious\";\n",
    "int len = x. Length;\n",
    "Console.WriteLine (\"Number of letters in the given word:\" +len);"
   ]
  },
  {
   "cell_type": "markdown",
   "id": "73cd36d0",
   "metadata": {},
   "source": [
    "2b. Does 'Supercalifragilisticexpialidocious' contain 'ice' as a substring?"
   ]
  },
  {
   "cell_type": "code",
   "execution_count": 83,
   "id": "622eb95f",
   "metadata": {},
   "outputs": [
    {
     "name": "stdout",
     "output_type": "stream",
     "text": [
      "Is ice present in thr given string? True\r\n"
     ]
    }
   ],
   "source": [
    "String x = \"Supercalifragilisticexpialidocious\";\n",
    "String y = \"ice\";\n",
    "Boolean result = x. Contains (y);\n",
    "Console.WriteLine($\"Is ice present in thr given string? \"+result);"
   ]
  },
  {
   "cell_type": "markdown",
   "id": "605e23d6",
   "metadata": {},
   "source": [
    "2c. Which of the following words is the longest:\n",
    "Supercalifragilisticexpialidocious, Honorificabilitudinitatibus, or\n",
    "Bababadalgharaghtakamminarronnkonn?"
   ]
  },
  {
   "cell_type": "code",
   "execution_count": 88,
   "id": "352fff90",
   "metadata": {},
   "outputs": [
    {
     "name": "stdout",
     "output_type": "stream",
     "text": [
      "Lengthiest word(s) is/are: 2 \n",
      "                                                     \n",
      "Supercalifragilisticexpialidocious\n",
      "Bababadalgharaghtakamminarronnkonn\n"
     ]
    }
   ],
   "source": [
    "string[] words = {                      \n",
    "                   \"Supercalifragilisticexpialidocious\",\n",
    "                   \"Honorificabilitudinitatibus\",\n",
    "                   \"Bababadalgharaghtakamminarronnkonn\"\n",
    "                 };\n",
    "                 \n",
    "string w = \"\";\n",
    "int Length = 0;\n",
    "List < string > longerWords = new List < string > ();\n",
    "String[] str;\n",
    "foreach(string s in words)\n",
    "{\n",
    "    if (s.Length >= Length)              \n",
    "    {\n",
    "        w = s;\n",
    "        Length = s.Length;\n",
    "        longerWords.Add(w);               \n",
    "        \n",
    "    }\n",
    "}\n",
    "Console.WriteLine($\"Lengthiest word(s) is/are: {longerWords.Count} \"); //Counting the lengthiest words\n",
    "Console.WriteLine(\"                                                     \");\n",
    "foreach(string s in longerWords)    \n",
    "{       \n",
    "    Console.WriteLine(s);\n",
    "}"
   ]
  },
  {
   "cell_type": "code",
   "execution_count": null,
   "id": "b2a10f60",
   "metadata": {},
   "outputs": [],
   "source": [
    "2d. Which composer comes first in the dictionary: 'Berlioz', 'Borodin', 'Brian',\n",
    "'Bartok', 'Bellini', 'Buxtehude', 'Bernstein'. Which one comes last?"
   ]
  },
  {
   "cell_type": "code",
   "execution_count": 101,
   "id": "9d5ddd70",
   "metadata": {},
   "outputs": [
    {
     "name": "stdout",
     "output_type": "stream",
     "text": [
      "Sorted by Composer Name\n",
      "                           \n",
      "Key: Bartok, Value: 4\n",
      "Key: Bellini, Value: 5\n",
      "Key: Berlioz, Value: 1\n",
      "Key: Bernsteinl, Value: 7\n",
      "Key: Borodin, Value: 2\n",
      "Key: Brian, Value: 3\n",
      "Key: Buxtehude, Value: 6\n",
      "\n",
      "The Composer which comes First : Bartok\n",
      "\n",
      "The Composer which comes Last : Buxtehude\n",
      "\n",
      "The Composer which comes First: [Bartok, 4]\n",
      "\n",
      "The Composer which comes Last: [Buxtehude, 6]\n"
     ]
    }
   ],
   "source": [
    "Dictionary < string, Int16 > CL = new Dictionary < string, Int16 > ();  \n",
    " CL.Add(\"Berlioz\", 1);\n",
    " CL.Add(\"Borodin\", 2);\n",
    " CL.Add(\"Brian\", 3);\n",
    " CL.Add(\"Bartok\", 4);\n",
    " CL.Add(\"Bellini\", 5);\n",
    " CL.Add(\"Buxtehude\", 6);\n",
    " CL.Add(\"Bernsteinl\", 7);\n",
    "\n",
    " Dictionary < string, Int16 > SortedCL = new Dictionary < string, Int16 > ();   // Making another dictionary for sorted ones\n",
    " List < string > SortedComposers = new List < string > ();\n",
    " Console.WriteLine(\"Sorted by Composer Name\");\n",
    " Console.WriteLine(\"                           \");\n",
    " \n",
    " // for each loop for sorting the composer names on the basis of a key from  dictionary\n",
    " \n",
    " foreach(KeyValuePair < string, Int16 > author in CL.OrderBy(key => key.Key)) \n",
    " { \n",
    "     Console.WriteLine(\"Key: {0}, Value: {1}\", author.Key, author.Value);\n",
    "     SortedCL.Add(author.Key, author.Value);\n",
    "     SortedComposers.Add(author.Key);\n",
    " }\n",
    " Console.WriteLine(\"\\nThe Composer which comes First : {0}\", SortedComposers.First());\n",
    " Console.WriteLine(\"\\nThe Composer which comes Last : {0}\", SortedComposers.Last());\n",
    " \n",
    " Console.WriteLine(\"\\nThe Composer which comes First: {0}\", SortedCL.First());\n",
    " Console.WriteLine(\"\\nThe Composer which comes Last: {0}\", SortedCL.Last());\n"
   ]
  },
  {
   "cell_type": "code",
   "execution_count": null,
   "id": "4a5f7fd4",
   "metadata": {},
   "outputs": [],
   "source": [
    "Question 3 C#\n",
    "Implement function triangleArea(a,b,c) that takes as input the lengths of the 3\n",
    "sides of a triangle and returns the area of the triangle. By Heron's formula, the area\n",
    "of a triangle with side lengths a, b, and c is\n",
    "sqrt(s(s - a)(s -b)(s -c))\n",
    ", where\n",
    "s = (a+b+c)/2.\n",
    ">>> triangleArea(2,2,2)\n",
    "1.7320508075688772"
   ]
  },
  {
   "cell_type": "code",
   "execution_count": 103,
   "id": "5d85546e",
   "metadata": {},
   "outputs": [
    {
     "name": "stdout",
     "output_type": "stream",
     "text": [
      "Area of Triangle : 1.7320508075688772\r\n"
     ]
    }
   ],
   "source": [
    "\n",
    "    public static double triangleArea(int a, int b, int c)\n",
    "{\n",
    "    double s = (a + b + c) / 2;\n",
    "    double area_of_triangle = Math.Sqrt(s * (s - a) *\n",
    "        (s - b) * (s - c));\n",
    "    return area_of_triangle;\n",
    "}\n",
    "double area_of_triangle = triangleArea(2, 2, 2);\n",
    "Console.WriteLine($\"Area of Triangle : {area_of_triangle}\")"
   ]
  },
  {
   "cell_type": "markdown",
   "id": "5fb87dee",
   "metadata": {},
   "source": [
    "Question 4 C#\n",
    "Write a program in C# Sharp to separate odd and even integers in separate arrays.\n",
    "Go to the editor\n",
    "Test Data :\n",
    "Input the number of elements to be stored in the array :5\n",
    "Input 5 elements in the array :\n",
    "element - 0 : 25\n",
    "element - 1 : 47\n",
    "element - 2 : 42\n",
    "element - 3 : 56\n",
    "element - 4 : 32"
   ]
  },
  {
   "cell_type": "code",
   "execution_count": 20,
   "id": "4ff4120c",
   "metadata": {},
   "outputs": [
    {
     "name": "stdout",
     "output_type": "stream",
     "text": [
      "The Even  Elements are\n",
      "42\n",
      "56\n",
      "32\n",
      "The Odd  Elements are\n",
      "25\n",
      "47\n"
     ]
    }
   ],
   "source": [
    "int[]a = new int[5]; //array creation \n",
    "        a[0] = 25;   //array initialization  \n",
    "        a[1] = 47;  \n",
    "        a[2] = 42; \n",
    "        a[3] = 56;\n",
    "        a[4]=  32;\n",
    "           Console.WriteLine(\"The Even  Elements are\");\n",
    "        for(int i=0;i<5;i++)\n",
    "        {\n",
    "            if(a[i]%2==0)\n",
    "            {\n",
    "            Console.WriteLine(a[i]);  \n",
    "            }\n",
    "        }\n",
    "        Console.WriteLine(\"The Odd  Elements are\"); \n",
    "          for(int i=0;i<5;i++)\n",
    "        {\n",
    "            if(a[i]%2!=0)\n",
    "            {\n",
    "            Console.WriteLine(a[i]);  \n",
    "}\n",
    "}"
   ]
  },
  {
   "cell_type": "code",
   "execution_count": null,
   "id": "73854ff3",
   "metadata": {},
   "outputs": [],
   "source": [
    "Question 5 C#\n",
    "a. Write a function inside(x,y,x1,y1,x2,y2) that returns True or False\n",
    "depending on whether the point (x,y) lies in the rectangle with lower left\n",
    "corner (x1,y1) and upper right corner (x2,y2).\n",
    ">>> inside(1,1,0,0,2,3)\n",
    "True\n",
    ">>> inside(-1,-1,0,0,2,3)\n",
    "False\n",
    "b. Use function inside() from part a. to write an expression that tests whether\n",
    "the point (1,1) lies in both of the following rectangles: one with lower left\n",
    "corner (0.3, 0.5) and upper right corner (1.1, 0.7) and the other with lower\n",
    "left corner (0.5, 0.2) and upper right corner (1.1, 2). "
   ]
  },
  {
   "cell_type": "code",
   "execution_count": 106,
   "id": "cc12edde",
   "metadata": {},
   "outputs": [
    {
     "name": "stdout",
     "output_type": "stream",
     "text": [
      "----------ANSWER a.--------\n",
      "\n",
      "inside(1,1,0,0,2,3):True\n",
      "inside(-1,-1,0,0,2,3):False\n",
      "\n",
      "----------ANSWER b.--------\n",
      "\n",
      "The point (1,1) does not lie in both of the following rectangles\n",
      "\n",
      "inside(1,1,0.3,0.5,1.1,0.7):False\n",
      "inside(1,1,0.5,0.2,1.1,2):True\n"
     ]
    }
   ],
   "source": [
    "public static bool inside(double x, double y, double x1, double y1, double x2, double y2)\n",
    "{\n",
    "       \n",
    "\n",
    "    if (x > x1 && x < x2 &&\n",
    "        y > y1 && y < y2)\n",
    "        return true;\n",
    "\n",
    "    return false;\n",
    "}\n",
    "\n",
    "Console.WriteLine(\"----------ANSWER a.--------\\n\");\n",
    "Console.WriteLine($\"inside(1,1,0,0,2,3):{inside(1,1,0,0,2,3)}\");\n",
    "Console.WriteLine($\"inside(-1,-1,0,0,2,3):{inside(-1,-1,0,0,2,3)}\\n\");\n",
    "Console.WriteLine(\"----------ANSWER b.--------\\n\");\n",
    "\n",
    "\n",
    "if(inside(1,1,0.3,0.5,1.1,0.7) && inside(1,1,0.5,0.2,1.1,2)){\n",
    "    Console.WriteLine(\"the point (1,1) lies in both of the following rectangles\");\n",
    "}\n",
    "else{\n",
    "    Console.WriteLine(\"The point (1,1) does not lie in both of the following rectangles\");\n",
    "}\n",
    "Console.WriteLine($\"\\ninside(1,1,0.3,0.5,1.1,0.7):{inside(1,1,0.3,0.5,1.1,0.7)}\");\n",
    "Console.WriteLine($\"inside(1,1,0.5,0.2,1.1,2):{inside(1,1,0.5,0.2,1.1,2)}\");"
   ]
  },
  {
   "cell_type": "code",
   "execution_count": null,
   "id": "07396351",
   "metadata": {},
   "outputs": [],
   "source": []
  },
  {
   "cell_type": "code",
   "execution_count": null,
   "id": "c2709168",
   "metadata": {},
   "outputs": [],
   "source": []
  },
  {
   "cell_type": "code",
   "execution_count": null,
   "id": "adc920ed",
   "metadata": {},
   "outputs": [],
   "source": []
  }
 ],
 "metadata": {
  "kernelspec": {
   "display_name": ".NET (C#)",
   "language": "C#",
   "name": ".net-csharp"
  },
  "language_info": {
   "file_extension": ".cs",
   "mimetype": "text/x-csharp",
   "name": "C#",
   "pygments_lexer": "csharp",
   "version": "8.0"
  }
 },
 "nbformat": 4,
 "nbformat_minor": 5
}
